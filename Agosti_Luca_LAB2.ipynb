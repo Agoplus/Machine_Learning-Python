{
 "cells": [
  {
   "cell_type": "markdown",
   "metadata": {},
   "source": [
    "# !!! ATTENTION !!!\n",
    "\n",
    "My PC takes about about 4 and half minutes to run every cell of the notebook."
   ]
  },
  {
   "cell_type": "markdown",
   "metadata": {},
   "source": [
    "# Kuzushiji Classification with Support Vector Machines\n",
    "\n",
    "In this notebook we are going to explore the use of Support Vector Machines (SVM) for image classification. We will use a variant of the famous MNIST dataset (the original is a dataset of handwritten digits). The version we are going to use is called Kuzushiji-MNIST or K-MNIST for short (https://github.com/rois-codh/kmnist) and is a dataset of traditional japanese handwritten kana.\n",
    "\n",
    "\n",
    "\n",
    "The dataset labels are the following:\n",
    "\n",
    "| Label | Hiragana Character | Romanji (Pronunciation) |\n",
    "| :-: | :-: | :-: |\n",
    "|   0   | お | o |\n",
    "| 1 | き | ki |\n",
    "| 2 | す | su |\n",
    "| 3 | つ | tsu |\n",
    "| 4 | な | na |\n",
    "| 5 | は | ha |\n",
    "| 6 | ま | ma |\n",
    "| 7 | や | ya |\n",
    "| 8 | れ | re |\n",
    "| 9 | を | wo |"
   ]
  },
  {
   "cell_type": "markdown",
   "metadata": {},
   "source": [
    "## TODO: Insert your surname, name and ID number\n",
    "\n",
    "Student surname: Agosti\n",
    "\n",
    "Student name: Luca\n",
    "    \n",
    "ID: 2062889"
   ]
  },
  {
   "cell_type": "code",
   "execution_count": 27,
   "metadata": {},
   "outputs": [],
   "source": [
    "#load the required packages\n",
    "\n",
    "%matplotlib inline  \n",
    "\n",
    "import numpy as np\n",
    "import scipy as sp\n",
    "import pandas as pd\n",
    "import matplotlib.pyplot as plt\n",
    "\n",
    "import sklearn as sk\n",
    "from sklearn.datasets import fetch_openml\n",
    "from sklearn.neural_network import MLPClassifier\n",
    "from sklearn.decomposition import PCA\n",
    "import sklearn.metrics as skm"
   ]
  },
  {
   "cell_type": "code",
   "execution_count": 28,
   "metadata": {},
   "outputs": [],
   "source": [
    "# helper function to load Kuzushiji-MNIST dataset\n",
    "def load_mnist(path, kind='train'):\n",
    "    import os\n",
    "    import gzip\n",
    "    import numpy as np\n",
    "    labels_path = os.path.join(path, 'K%s-labels-idx1-ubyte.gz' % kind)\n",
    "    images_path = os.path.join(path, 'K%s-images-idx3-ubyte.gz' % kind)\n",
    "    with gzip.open(labels_path, 'rb') as lbpath:\n",
    "        labels = np.frombuffer(lbpath.read(), dtype=np.uint8,offset=8)\n",
    "    with gzip.open(images_path, 'rb') as imgpath:\n",
    "        images = np.frombuffer(imgpath.read(), dtype=np.uint8,offset=16).reshape(len(labels), 784)\n",
    "    return images, labels"
   ]
  },
  {
   "cell_type": "code",
   "execution_count": 29,
   "metadata": {},
   "outputs": [],
   "source": [
    "#fix your ID (\"numero di matricola\") and the seed for random generator (as usual you can try different seeds)\n",
    "ID = 2062889\n",
    "np.random.seed(ID)"
   ]
  },
  {
   "cell_type": "code",
   "execution_count": 30,
   "metadata": {},
   "outputs": [
    {
     "name": "stdout",
     "output_type": "stream",
     "text": [
      "(60000, 784) (60000,)\n"
     ]
    }
   ],
   "source": [
    "#load the K-MNIST dataset from the 'data' folder and let's normalize the features so that each value is in [0,1] \n",
    "\n",
    "X, y = load_mnist('data', kind='train')\n",
    "# rescale the data\n",
    "X, y = X / 255., y # original pixel values are between 0 and 255\n",
    "print(X.shape, y.shape)"
   ]
  },
  {
   "cell_type": "markdown",
   "metadata": {},
   "source": [
    "Now split into training and test. Make sure that each label is present at least 10 times\n",
    "in training. If it is not, then keep adding permutations to the initial data until this \n",
    "happens."
   ]
  },
  {
   "cell_type": "code",
   "execution_count": 31,
   "metadata": {},
   "outputs": [
    {
     "name": "stdout",
     "output_type": "stream",
     "text": [
      "Labels in training dataset:  [0 1 2 3 4 5 6 7 8 9]\n",
      "Frequencies in training dataset:  [56 58 56 51 73 65 54 61 58 68]\n"
     ]
    }
   ],
   "source": [
    "# Random permute the data and split into training and test taking the first 600\n",
    "# data samples as training and 4000 samples as test\n",
    "permutation = np.random.permutation(X.shape[0])\n",
    "\n",
    "X = X[permutation]\n",
    "y = y[permutation]\n",
    "\n",
    "m_training = 600\n",
    "m_test = 4000\n",
    "\n",
    "X_train, X_test = X[:m_training], X[m_training:m_training+m_test:]\n",
    "y_train, y_test = y[:m_training], y[m_training:m_training+m_test:]\n",
    "\n",
    "labels, freqs = np.unique(y_train, return_counts=True)\n",
    "print(\"Labels in training dataset: \", labels)\n",
    "print(\"Frequencies in training dataset: \", freqs)"
   ]
  },
  {
   "cell_type": "code",
   "execution_count": 32,
   "metadata": {},
   "outputs": [],
   "source": [
    "#function for plotting a image and printing the corresponding label\n",
    "def plot_input(X_matrix, labels, index):\n",
    "    print(\"INPUT:\")\n",
    "    plt.imshow(\n",
    "        X_matrix[index].reshape(28,28),\n",
    "        cmap          = plt.cm.gray_r,\n",
    "        interpolation = \"nearest\"\n",
    "    )\n",
    "    plt.show()\n",
    "    print(\"LABEL: %i\"%labels[index])\n",
    "    return"
   ]
  },
  {
   "cell_type": "code",
   "execution_count": 33,
   "metadata": {},
   "outputs": [
    {
     "name": "stdout",
     "output_type": "stream",
     "text": [
      "INPUT:\n"
     ]
    },
    {
     "data": {
      "image/png": "[encoded data removed]",
      "text/plain": [
       "<Figure size 432x288 with 1 Axes>"
      ]
     },
     "metadata": {
      "needs_background": "light"
     },
     "output_type": "display_data"
    },
    {
     "name": "stdout",
     "output_type": "stream",
     "text": [
      "LABEL: 5\n",
      "INPUT:\n"
     ]
    },
    {
     "data": {
      "image/png": "[encoded data removed]",
      "text/plain": [
       "<Figure size 432x288 with 1 Axes>"
      ]
     },
     "metadata": {
      "needs_background": "light"
     },
     "output_type": "display_data"
    },
    {
     "name": "stdout",
     "output_type": "stream",
     "text": [
      "LABEL: 7\n",
      "INPUT:\n"
     ]
    },
    {
     "data": {
      "image/png": "[encoded data removed]",
      "text/plain": [
       "<Figure size 432x288 with 1 Axes>"
      ]
     },
     "metadata": {
      "needs_background": "light"
     },
     "output_type": "display_data"
    },
    {
     "name": "stdout",
     "output_type": "stream",
     "text": [
      "LABEL: 3\n",
      "INPUT:\n"
     ]
    },
    {
     "data": {
      "image/png": "[encoded data removed]",
      "text/plain": [
       "<Figure size 432x288 with 1 Axes>"
      ]
     },
     "metadata": {
      "needs_background": "light"
     },
     "output_type": "display_data"
    },
    {
     "name": "stdout",
     "output_type": "stream",
     "text": [
      "LABEL: 8\n"
     ]
    }
   ],
   "source": [
    "#let's try the plotting function\n",
    "plot_input(X_train,y_train,5)\n",
    "plot_input(X_test,y_test,50)\n",
    "plot_input(X_test,y_test,500)\n",
    "plot_input(X_test,y_test,700)"
   ]
  },
  {
   "cell_type": "markdown",
   "metadata": {},
   "source": [
    "## TO DO 1\n",
    "Use a SVM classifier with cross validation to pick a model. Use a 4-fold cross-validation. Let's start with a Linear kernel:"
   ]
  },
  {
   "cell_type": "code",
   "execution_count": 34,
   "metadata": {},
   "outputs": [
    {
     "name": "stdout",
     "output_type": "stream",
     "text": [
      "RESULTS FOR LINEAR KERNEL\n",
      "\n",
      "Number of K-fold: 4\n",
      "\n",
      "All scores on the grid:\n",
      "C = 0.001\n",
      "Scores on the Kfolds:  [0.38 0.44 0.45 0.39] \n",
      "\n",
      "C = 0.01\n",
      "Scores on the Kfolds:  [0.77 0.66 0.79 0.73] \n",
      "\n",
      "C = 0.1\n",
      "Scores on the Kfolds:  [0.79 0.7  0.71 0.71] \n",
      "\n",
      "C = 1\n",
      "Scores on the Kfolds:  [0.78 0.7  0.71 0.71] \n",
      "\n",
      "C = 10\n",
      "Scores on the Kfolds:  [0.78 0.7  0.71 0.71] \n",
      "\n",
      "C = 100\n",
      "Scores on the Kfolds:  [0.78 0.7  0.71 0.71] \n",
      "\n",
      "Best parameters set found: C = 0.01\n",
      "Best average score with best parameters on the K-folds: 0.7366666666666667\n"
     ]
    }
   ],
   "source": [
    "#import SVC\n",
    "from sklearn.svm import SVC\n",
    "#import for Cross-Validation\n",
    "from sklearn.model_selection import cross_val_score\n",
    "\n",
    "parameters = {'C': [0.001, 0.01, 0.1, 1, 10, 100]} #parameters for linear SVM\n",
    "\n",
    "Kfolds = 4\n",
    "\n",
    "BestScore = 0\n",
    "\n",
    "BestModel = 0\n",
    "\n",
    "print ('RESULTS FOR LINEAR KERNEL\\n')\n",
    "\n",
    "print(\"Number of K-fold:\", Kfolds)\n",
    "\n",
    "print(\"\\nAll scores on the grid:\")\n",
    "\n",
    "for c in parameters[\"C\"]: #train linear SVM\n",
    "    print(\"C =\",c)\n",
    "    clf = SVC(kernel='linear', C = c)\n",
    "    scores = cross_val_score(clf, X_train, y_train, cv=Kfolds)\n",
    "    print(\"Scores on the Kfolds: \",scores, \"\\n\")\n",
    "    if np.sum(scores) > np.sum(BestScore):\n",
    "        BestScore = scores\n",
    "        BestModel = c\n",
    "\n",
    "print(\"Best parameters set found: C =\", BestModel)\n",
    "\n",
    "print(\"Best average score with best parameters on the K-folds:\", 1/Kfolds*np.sum(BestScore))"
   ]
  },
  {
   "cell_type": "markdown",
   "metadata": {},
   "source": [
    "## TO DO 2\n",
    "Pick a model for the Polynomial kernel with degree=2:"
   ]
  },
  {
   "cell_type": "code",
   "execution_count": 35,
   "metadata": {},
   "outputs": [
    {
     "name": "stdout",
     "output_type": "stream",
     "text": [
      "RESULTS FOR POLY DEGREE=2 KERNEL\n",
      "\n",
      "Number of K-fold: 4\n",
      "\n",
      "All scores on the grid:\n",
      "C = 0.01 gamma = 0.01\n",
      "Scores on the Kfolds:  [0.12 0.12 0.12 0.13] \n",
      "\n",
      "C = 0.01 gamma = 0.1\n",
      "Scores on the Kfolds:  [0.79 0.69 0.76 0.72] \n",
      "\n",
      "C = 0.01 gamma = 1\n",
      "Scores on the Kfolds:  [0.78 0.75 0.77 0.74] \n",
      "\n",
      "C = 0.1 gamma = 0.01\n",
      "Scores on the Kfolds:  [0.41 0.44 0.5  0.38] \n",
      "\n",
      "C = 0.1 gamma = 0.1\n",
      "Scores on the Kfolds:  [0.77 0.76 0.78 0.73] \n",
      "\n",
      "C = 0.1 gamma = 1\n",
      "Scores on the Kfolds:  [0.78 0.75 0.77 0.74] \n",
      "\n",
      "C = 1 gamma = 0.01\n",
      "Scores on the Kfolds:  [0.79 0.69 0.76 0.72] \n",
      "\n",
      "C = 1 gamma = 0.1\n",
      "Scores on the Kfolds:  [0.78 0.75 0.77 0.74] \n",
      "\n",
      "C = 1 gamma = 1\n",
      "Scores on the Kfolds:  [0.78 0.75 0.77 0.74] \n",
      "\n",
      "Best parameters set found: C = 0.1 gamma = 0.1\n",
      "Best average score with best parameters on the K-folds: 0.7616666666666667\n"
     ]
    }
   ],
   "source": [
    "# parameters for poly with degree 2 kernel\n",
    "parameters = {'C': [0.01, 0.1, 1],'gamma':[0.01,0.1,1]}\n",
    "\n",
    "BestScore = 0\n",
    "\n",
    "BestModel = {'C': [],'gamma':[]}\n",
    "\n",
    "#run SVM with poly of degree 2 kernel\n",
    "\n",
    "print ('RESULTS FOR POLY DEGREE=2 KERNEL\\n')\n",
    "\n",
    "print(\"Number of K-fold:\", Kfolds)\n",
    "\n",
    "print(\"\\nAll scores on the grid:\")\n",
    "\n",
    "for c in parameters[\"C\"]:\n",
    "    for g in parameters[\"gamma\"]:\n",
    "        print(\"C =\", c ,\"gamma =\", g)\n",
    "        clf = SVC(kernel='poly', degree = 2, C = c, gamma = g)\n",
    "        scores = cross_val_score(clf, X_train, y_train, cv=Kfolds)\n",
    "        print(\"Scores on the Kfolds: \",scores, \"\\n\")\n",
    "        if np.sum(scores) > np.sum(BestScore):\n",
    "            BestScore = scores\n",
    "            BestModel[\"C\"] = c\n",
    "            BestModel[\"gamma\"] = g\n",
    "\n",
    "print(\"Best parameters set found: C =\", BestModel[\"C\"], \"gamma =\", BestModel[\"gamma\"])\n",
    "\n",
    "print(\"Best average score with best parameters on the K-folds:\", 1/Kfolds*np.sum(BestScore))"
   ]
  },
  {
   "cell_type": "markdown",
   "metadata": {},
   "source": [
    "## TO DO 3\n",
    "\n",
    "Now let's try a higher degree for the polynomial kernel (e.g., 3rd degree)."
   ]
  },
  {
   "cell_type": "code",
   "execution_count": 36,
   "metadata": {},
   "outputs": [
    {
     "name": "stdout",
     "output_type": "stream",
     "text": [
      "RESULTS FOR POLY DEGREE = 3  KERNEL\n",
      "\n",
      "Number of K-fold: 4\n",
      "\n",
      "All scores on the grid:\n",
      "C = 0.01 gamma = 0.01\n",
      "Scores on the Kfolds:  [0.12 0.12 0.12 0.13] \n",
      "\n",
      "C = 0.01 gamma = 0.1\n",
      "Scores on the Kfolds:  [0.71 0.69 0.74 0.66] \n",
      "\n",
      "C = 0.01 gamma = 1\n",
      "Scores on the Kfolds:  [0.69 0.71 0.72 0.64] \n",
      "\n",
      "C = 0.1 gamma = 0.01\n",
      "Scores on the Kfolds:  [0.39 0.39 0.46 0.33] \n",
      "\n",
      "C = 0.1 gamma = 0.1\n",
      "Scores on the Kfolds:  [0.69 0.71 0.73 0.65] \n",
      "\n",
      "C = 0.1 gamma = 1\n",
      "Scores on the Kfolds:  [0.69 0.71 0.72 0.64] \n",
      "\n",
      "C = 1 gamma = 0.01\n",
      "Scores on the Kfolds:  [0.73 0.65 0.7  0.65] \n",
      "\n",
      "C = 1 gamma = 0.1\n",
      "Scores on the Kfolds:  [0.69 0.71 0.72 0.64] \n",
      "\n",
      "C = 1 gamma = 1\n",
      "Scores on the Kfolds:  [0.69 0.71 0.72 0.64] \n",
      "\n",
      "Best parameters set found: C = 0.01 gamma = 0.1\n",
      "Best average score with best parameters on the K-folds: 0.7016666666666667\n"
     ]
    }
   ],
   "source": [
    "# parameters for poly with higher degree kernel\n",
    "parameters = {'C': [0.01, 0.1, 1],'gamma':[0.01,0.1,1]}\n",
    "\n",
    "#run SVM with poly of higher degree kernel\n",
    "degree = 3\n",
    "\n",
    "BestScore = 0\n",
    "\n",
    "BestModel = {'C': [],'gamma':[]}\n",
    "\n",
    "print ('RESULTS FOR POLY DEGREE =', degree, ' KERNEL\\n')\n",
    "\n",
    "print(\"Number of K-fold:\", Kfolds)\n",
    "\n",
    "print(\"\\nAll scores on the grid:\")\n",
    "\n",
    "for c in parameters[\"C\"]:\n",
    "    for g in parameters[\"gamma\"]:\n",
    "        print(\"C =\", c ,\"gamma =\", g)\n",
    "        clf = SVC(kernel='poly', degree = degree, C = c, gamma = g)\n",
    "        scores = cross_val_score(clf, X_train, y_train, cv=Kfolds)\n",
    "        print(\"Scores on the Kfolds: \",scores, \"\\n\")\n",
    "        if np.sum(scores) > np.sum(BestScore):\n",
    "            BestScore = scores\n",
    "            BestModel[\"C\"] = c\n",
    "            BestModel[\"gamma\"] = g\n",
    "\n",
    "print(\"Best parameters set found: C =\", BestModel[\"C\"], \"gamma =\", BestModel[\"gamma\"])\n",
    "\n",
    "print(\"Best average score with best parameters on the K-folds:\", 1/Kfolds*np.sum(BestScore))"
   ]
  },
  {
   "cell_type": "markdown",
   "metadata": {},
   "source": [
    "## TO DO 4\n",
    "Pick a model for the Radial Basis Function kernel:"
   ]
  },
  {
   "cell_type": "code",
   "execution_count": 37,
   "metadata": {},
   "outputs": [
    {
     "name": "stdout",
     "output_type": "stream",
     "text": [
      "RESULTS FOR rbf KERNEL\n",
      "\n",
      "Number of K-fold: 4\n",
      "\n",
      "All scores on the grid:\n",
      "C = 0.1 gamma = 0.001\n",
      "Scores on the Kfolds:  [0.12 0.12 0.12 0.13] \n",
      "\n",
      "C = 0.1 gamma = 0.01\n",
      "Scores on the Kfolds:  [0.19 0.16 0.17 0.19] \n",
      "\n",
      "C = 0.1 gamma = 0.1\n",
      "Scores on the Kfolds:  [0.12 0.12 0.12 0.13] \n",
      "\n",
      "C = 0.1 gamma = 1\n",
      "Scores on the Kfolds:  [0.12 0.12 0.12 0.13] \n",
      "\n",
      "C = 1 gamma = 0.001\n",
      "Scores on the Kfolds:  [0.68 0.61 0.72 0.63] \n",
      "\n",
      "C = 1 gamma = 0.01\n",
      "Scores on the Kfolds:  [0.81 0.71 0.83 0.77] \n",
      "\n",
      "C = 1 gamma = 0.1\n",
      "Scores on the Kfolds:  [0.12 0.12 0.12 0.13] \n",
      "\n",
      "C = 1 gamma = 1\n",
      "Scores on the Kfolds:  [0.12 0.12 0.12 0.13] \n",
      "\n",
      "C = 10 gamma = 0.001\n",
      "Scores on the Kfolds:  [0.79 0.71 0.79 0.74] \n",
      "\n",
      "C = 10 gamma = 0.01\n",
      "Scores on the Kfolds:  [0.85 0.74 0.83 0.77] \n",
      "\n",
      "C = 10 gamma = 0.1\n",
      "Scores on the Kfolds:  [0.13 0.13 0.13 0.13] \n",
      "\n",
      "C = 10 gamma = 1\n",
      "Scores on the Kfolds:  [0.12 0.12 0.12 0.13] \n",
      "\n",
      "C = 100 gamma = 0.001\n",
      "Scores on the Kfolds:  [0.82 0.73 0.75 0.73] \n",
      "\n",
      "C = 100 gamma = 0.01\n",
      "Scores on the Kfolds:  [0.85 0.74 0.83 0.77] \n",
      "\n",
      "C = 100 gamma = 0.1\n",
      "Scores on the Kfolds:  [0.13 0.13 0.13 0.13] \n",
      "\n",
      "C = 100 gamma = 1\n",
      "Scores on the Kfolds:  [0.12 0.12 0.12 0.13] \n",
      "\n",
      "Best parameters set found: C = 10 gamma = 0.01\n",
      "Best average score with best parameters on the K-folds: 0.7983333333333333\n"
     ]
    }
   ],
   "source": [
    "# parameters for rbf SVM\n",
    "parameters = {'C': [0.1, 1, 10, 100],'gamma':[0.001, 0.01, 0.1,1]}\n",
    "\n",
    "#run SVM with rbf kernel\n",
    "\n",
    "BestScore = 0\n",
    "\n",
    "BestModel = {'C': [],'gamma':[]}\n",
    "\n",
    "#run SVM with poly of degree 2 kernel\n",
    "\n",
    "print ('RESULTS FOR rbf KERNEL\\n')\n",
    "\n",
    "print(\"Number of K-fold:\", Kfolds)\n",
    "\n",
    "print(\"\\nAll scores on the grid:\")\n",
    "\n",
    "for c in parameters[\"C\"]:\n",
    "    for g in parameters[\"gamma\"]:\n",
    "        print(\"C =\", c ,\"gamma =\", g)\n",
    "        clf = SVC(kernel='rbf', C = c, gamma = g)\n",
    "        scores = cross_val_score(clf, X_train, y_train, cv=Kfolds)\n",
    "        print(\"Scores on the Kfolds: \",scores, \"\\n\")\n",
    "        if np.sum(scores) > np.sum(BestScore):\n",
    "            BestScore = scores\n",
    "            BestModel[\"C\"] = c\n",
    "            BestModel[\"gamma\"] = g\n",
    "\n",
    "print(\"Best parameters set found: C =\", BestModel[\"C\"], \"gamma =\", BestModel[\"gamma\"])\n",
    "\n",
    "print(\"Best average score with best parameters on the K-folds:\", 1/Kfolds*np.sum(BestScore))"
   ]
  },
  {
   "cell_type": "markdown",
   "metadata": {},
   "source": [
    "## QUESTION 1\n",
    "What do you observe when using linear, polynomial and RBF kernels on this dataset ?\n",
    "\n",
    "From the grid searches we obtain that the kernel with the best results is RBF, with a best score of 0.798, followed by the second degree polynomial with 0.762, the linear kernel with 0.737 and in fourth place the third degree polynomial with 0.702. It is also worth noting that the combination of C and gamma for the best model vary for each kernel."
   ]
  },
  {
   "cell_type": "markdown",
   "metadata": {},
   "source": [
    "## TO DO 5\n",
    "Report here the best SVM kernel and parameters"
   ]
  },
  {
   "cell_type": "code",
   "execution_count": 38,
   "metadata": {},
   "outputs": [
    {
     "name": "stdout",
     "output_type": "stream",
     "text": [
      "Test score: 0.828 \n",
      "\n",
      "Best SVM training error: 0.201667\n",
      "Best SVM test error: 0.172000\n"
     ]
    }
   ],
   "source": [
    "#get training and test error for the best SVM model from CV\n",
    "best_SVM = BestModel\n",
    "\n",
    "clf = SVC(kernel = \"rbf\", C = best_SVM[\"C\"], gamma = best_SVM[\"gamma\"])\n",
    "clf.fit(X_train, y_train)\n",
    "scores = clf.score(X_test, y_test)\n",
    "print(\"Test score:\", scores, \"\\n\")\n",
    "\n",
    "training_error = 1-(1/Kfolds)*np.sum(BestScore)\n",
    "test_error = 1-scores\n",
    "\n",
    "print (\"Best SVM training error: %f\" % training_error)\n",
    "print (\"Best SVM test error: %f\" % test_error)"
   ]
  },
  {
   "cell_type": "markdown",
   "metadata": {},
   "source": [
    "## TO DO 6\n",
    "\n",
    "Analyze how the gamma parameter (inversely proportional to standard deviation of Gaussian Kernel) impact the performances of the classifier"
   ]
  },
  {
   "cell_type": "code",
   "execution_count": 39,
   "metadata": {},
   "outputs": [
    {
     "name": "stdout",
     "output_type": "stream",
     "text": [
      "[  0.     0.     0.     0.01   0.1    1.    10.   100.  ]\n"
     ]
    }
   ],
   "source": [
    "#Test with different values of gamma\n",
    "\n",
    "# Set gamma values\n",
    "gamma_values = np.logspace(-5,2,8)\n",
    "print(gamma_values)"
   ]
  },
  {
   "cell_type": "code",
   "execution_count": 40,
   "metadata": {},
   "outputs": [
    {
     "data": {
      "image/png": "[encoded data removed]",
      "text/plain": [
       "<Figure size 1080x360 with 2 Axes>"
      ]
     },
     "metadata": {
      "needs_background": "light"
     },
     "output_type": "display_data"
    }
   ],
   "source": [
    "# Try the SVM with the previously set values of gamma\n",
    "# use rbf kernel and C=1\n",
    "\n",
    "train_acc_list, test_acc_list = [], []\n",
    "\n",
    "# ADD YOUR CODE TO TRAIN THE SVM MULTIPLE TIMES WITH THE DIFFERENT VALUES OF GAMMA\n",
    "# PLACE THE TRAIN AND TEST ACCURACY FOR EACH TEST IN THE TRAIN AND TEST ACCURACY LISTS\n",
    "\n",
    "for g in gamma_values:\n",
    "    clf = SVC(kernel = \"rbf\", C = 1, gamma = g)\n",
    "    clf.fit(X_train, y_train)\n",
    "    \n",
    "    scores = clf.score(X_train, y_train)\n",
    "    train_acc_list.append(scores)\n",
    "    \n",
    "    scores = clf.score(X_test, y_test)\n",
    "    test_acc_list.append(scores)\n",
    "\n",
    "# Plot\n",
    "fig, ax = plt.subplots(1,2, figsize=(15,5))\n",
    "\n",
    "ax[0].plot(gamma_values, train_acc_list)\n",
    "ax[0].set_xscale('log')\n",
    "ax[0].set_xlabel('gamma')\n",
    "ax[0].set_ylabel('Train accuracy')\n",
    "ax[0].grid(True)\n",
    "\n",
    "ax[1].plot(gamma_values, test_acc_list)\n",
    "ax[1].set_xscale('log')\n",
    "ax[1].set_xlabel('gamma')\n",
    "ax[1].set_ylabel('Test accuracy')\n",
    "ax[1].grid(True)\n",
    "\n",
    "\n",
    "plt.show()"
   ]
  },
  {
   "cell_type": "markdown",
   "metadata": {},
   "source": [
    "## QUESTION 2\n",
    "How do the train and test error change when changing gamma ? Which is the best value of gamma ? \n",
    "Connect your answers to the discussion about the overfitting issue.\n",
    "\n",
    "From the plots we notice that the accuracy on the training set increases with the value of gamma saturating at gamma=0.1. The test accuracy instead has a different behaviour, from the second graph we can see that it has a peak for gamma = 0.01 and then falls. Since the accuracy is computed as 1-error, one can say that while the training error declines monotonically with gamma's value, the test error has a minimum in gamma=0.01.\n",
    "This behaviour is expected, since the value of gamma controls how precisely the training set is fit and when it is high we incur in the risk overfitting. The beavhiour of the second graph shows us exatcly what happens when gamma is too high, so when we try to fit the training set too closely. \n",
    "For wide gamma we have the best fit over the training set which, overfitting the latter concentrating only around the training data, doesn't allow a good generalization that can fit the test set, resulting in a bad classification of the test set."
   ]
  },
  {
   "cell_type": "markdown",
   "metadata": {},
   "source": [
    "## More data\n",
    "Now let's do the same but using more data points for training.\n",
    "\n",
    "\n",
    "Choose a new number of data points."
   ]
  },
  {
   "cell_type": "code",
   "execution_count": 41,
   "metadata": {},
   "outputs": [
    {
     "name": "stdout",
     "output_type": "stream",
     "text": [
      "Labels in training dataset:  [0 1 2 3 4 5 6 7 8 9]\n",
      "Frequencies in training dataset:  [192 231 210 213 210 180 185 189 199 191]\n"
     ]
    }
   ],
   "source": [
    "X = X[permutation]\n",
    "y = y[permutation]\n",
    "\n",
    "m_training = 2000 # TODO number of data points, adjust depending on the capabilities of your PC\n",
    "m_test = 12000\n",
    "\n",
    "X_train, X_test = X[:m_training], X[m_training:]\n",
    "y_train, y_test = y[:m_training], y[m_training:]\n",
    "\n",
    "labels, freqs = np.unique(y_train, return_counts = True)\n",
    "print(\"Labels in training dataset: \", labels)\n",
    "print(\"Frequencies in training dataset: \", freqs)"
   ]
  },
  {
   "cell_type": "markdown",
   "metadata": {},
   "source": [
    "## TO DO 7\n",
    "\n",
    "Let's try to use SVM with parameters obtained from the best model for $m_{training} =  2000$. Since it may take a long time to run, you can decide to just let it run for some time and stop it if it does not complete. If you decide to do this, report it in the cell below."
   ]
  },
  {
   "cell_type": "code",
   "execution_count": 42,
   "metadata": {},
   "outputs": [
    {
     "name": "stdout",
     "output_type": "stream",
     "text": [
      "Best SVM training error: 0.000000\n",
      "Best SVM test error: 0.114517\n"
     ]
    }
   ],
   "source": [
    "#get training and test error for the best SVM model from CV\n",
    "\n",
    "clf = SVC(kernel = \"rbf\", C = best_SVM[\"C\"], gamma = best_SVM[\"gamma\"])\n",
    "clf.fit(X_train, y_train)\n",
    "\n",
    "scores = clf.score(X_train, y_train)\n",
    "training_error = 1-scores\n",
    "\n",
    "scores = clf.score(X_test, y_test)\n",
    "test_error = 1-scores \n",
    "\n",
    "print (\"Best SVM training error: %f\" % training_error)\n",
    "print (\"Best SVM test error: %f\" % test_error)"
   ]
  },
  {
   "cell_type": "markdown",
   "metadata": {},
   "source": [
    "Just for comparison, let's also use logistic regression \n",
    "\n",
    "## TO DO 8 Try first without regularization (use a very large large C)¶"
   ]
  },
  {
   "cell_type": "code",
   "execution_count": 43,
   "metadata": {},
   "outputs": [
    {
     "name": "stderr",
     "output_type": "stream",
     "text": [
      "/Users/lucaagosti/opt/anaconda3/lib/python3.8/site-packages/sklearn/linear_model/_logistic.py:444: ConvergenceWarning: lbfgs failed to converge (status=1):\n",
      "STOP: TOTAL NO. of ITERATIONS REACHED LIMIT.\n",
      "\n",
      "Increase the number of iterations (max_iter) or scale the data as shown in:\n",
      "    https://scikit-learn.org/stable/modules/preprocessing.html\n",
      "Please also refer to the documentation for alternative solver options:\n",
      "    https://scikit-learn.org/stable/modules/linear_model.html#logistic-regression\n",
      "  n_iter_i = _check_optimize_result(\n"
     ]
    },
    {
     "name": "stdout",
     "output_type": "stream",
     "text": [
      "Best logistic regression training error: 0.000000\n",
      "Best logistic regression test error: 0.275276\n"
     ]
    }
   ],
   "source": [
    "from sklearn import linear_model\n",
    "\n",
    "logreg = linear_model.LogisticRegression(C = 1e5) #a large C disables regularization\n",
    "logreg.fit(X_train, y_train) #learn from training set\n",
    "\n",
    "training_error = 1-logreg.score(X_train, y_train)\n",
    "test_error = 1-logreg.score(X_test, y_test)\n",
    "\n",
    "print (\"Best logistic regression training error: %f\" % training_error)\n",
    "print (\"Best logistic regression test error: %f\" % test_error)"
   ]
  },
  {
   "cell_type": "markdown",
   "metadata": {},
   "source": [
    "## TO DO 9 Try  with regularization (use C=1)¶"
   ]
  },
  {
   "cell_type": "code",
   "execution_count": 44,
   "metadata": {},
   "outputs": [
    {
     "name": "stdout",
     "output_type": "stream",
     "text": [
      "Best logistic regression training error: 0.001000\n",
      "Best logistic regression test error: 0.250603\n"
     ]
    },
    {
     "name": "stderr",
     "output_type": "stream",
     "text": [
      "/Users/lucaagosti/opt/anaconda3/lib/python3.8/site-packages/sklearn/linear_model/_logistic.py:444: ConvergenceWarning: lbfgs failed to converge (status=1):\n",
      "STOP: TOTAL NO. of ITERATIONS REACHED LIMIT.\n",
      "\n",
      "Increase the number of iterations (max_iter) or scale the data as shown in:\n",
      "    https://scikit-learn.org/stable/modules/preprocessing.html\n",
      "Please also refer to the documentation for alternative solver options:\n",
      "    https://scikit-learn.org/stable/modules/linear_model.html#logistic-regression\n",
      "  n_iter_i = _check_optimize_result(\n"
     ]
    }
   ],
   "source": [
    "logreg = linear_model.LogisticRegression(C=1)\n",
    "logreg.fit(X_train, y_train)\n",
    "\n",
    "training_error = 1-logreg.score(X_train, y_train)\n",
    "test_error = 1-logreg.score(X_test, y_test)\n",
    "\n",
    "print (\"Best logistic regression training error: %f\" % training_error)\n",
    "print (\"Best logistic regression test error: %f\" % test_error)"
   ]
  },
  {
   "cell_type": "markdown",
   "metadata": {},
   "source": [
    "## QUESTION 3\n",
    "Compare and discuss:\n",
    "- the results from SVM with m=600 and with m=2000 training data points. If you stopped the SVM, include such aspect in your comparison.\n",
    "- the results of SVM and of Logistic Regression\n",
    "\n",
    "As expected, the increase of m from 600 to 2000 brought us much better results, indeed the test error is double for the case with m=600 than the one m=2000 data points.\n",
    "The results for the logistic regression are the following: based on the test errors the regolarized one is worse than the unregolarized one (0.275 vs 0.251). However both the logistic regressions are much less accurate than the SVM (test error of 0.115 for SVM with m=2000 rather than 0.271 and 0.251 for the linear regressions), even for the case with 600 data points (for m=600 we have a test error of 0.172, still better than the linear regression)."
   ]
  },
  {
   "cell_type": "markdown",
   "metadata": {},
   "source": [
    "## TO DO 10\n",
    "Plot an item of clothing that is missclassified by logistic regression and correctly classified by SVM."
   ]
  },
  {
   "cell_type": "code",
   "execution_count": 45,
   "metadata": {},
   "outputs": [],
   "source": [
    "LR_prediction = logreg.predict(X_test) \n",
    "SVM_prediction = clf.predict(X_test)"
   ]
  },
  {
   "cell_type": "code",
   "execution_count": 46,
   "metadata": {},
   "outputs": [
    {
     "name": "stdout",
     "output_type": "stream",
     "text": [
      "INPUT:\n"
     ]
    },
    {
     "data": {
      "image/png": "[encoded data removed]",
      "text/plain": [
       "<Figure size 432x288 with 1 Axes>"
      ]
     },
     "metadata": {
      "needs_background": "light"
     },
     "output_type": "display_data"
    },
    {
     "name": "stdout",
     "output_type": "stream",
     "text": [
      "LABEL: 2\n",
      "Index: 2\n",
      "LR prediction:  8\n",
      "SVM prediction:  2\n"
     ]
    }
   ],
   "source": [
    "for index, input, predictionSVM, predictionLR, label in zip(range(len(X_test)), X_test, SVM_prediction, LR_prediction, y_test):\n",
    "    if predictionLR != label and predictionSVM == label:\n",
    "        plot_input(X_test, y_test, index)\n",
    "        print('Index:', index)\n",
    "        print(\"LR prediction: \", LR_prediction[index])\n",
    "        print(\"SVM prediction: \", SVM_prediction[index])\n",
    "        break"
   ]
  },
  {
   "cell_type": "markdown",
   "metadata": {},
   "source": [
    "## TO DO 11\n",
    "Plot the confusion matrix for the SVM classifier and for logistic regression.\n",
    "The confusion matrix has one column for each predicted label and one row for each true label. \n",
    "It shows for each class in the corresponding row how many samples belonging to that class gets each possible output label.\n",
    "Notice that the diagonal contains the correctly classified samples, while the other cells correspond to errors.\n",
    "You can obtain it with the sklearn.metrics.confusion_matrix function (see the documentation).\n",
    "Try also to normalize the confusion matrix by the number of samples in each class in order to measure the accuracy on each single class.\n"
   ]
  },
  {
   "cell_type": "code",
   "execution_count": 47,
   "metadata": {},
   "outputs": [
    {
     "name": "stdout",
     "output_type": "stream",
     "text": [
      "Labels and frequencies in test set:  [5808 5769 5790 5787 5790 5820 5815 5811 5801 5809]\n",
      "\n",
      " Confusion matrix SVM  \n",
      " \n",
      " [[5319   10    4   51  116   47    4   74  129   54]\n",
      " [  19 5121   77   61  128   13  155    4   87  104]\n",
      " [   0  103 4663  113   95   21  467   22  223   83]\n",
      " [  10   49   88 5399   57   47   26   21   76   14]\n",
      " [ 130   89  117   50 5111   13   63   35  100   82]\n",
      " [  31   93  117  179   69 5100   42   21  153   15]\n",
      " [  11  147  316   32  217    7 4916   70   81   18]\n",
      " [  56   24   70   67  185   14   33 5247   69   46]\n",
      " [  17  114   58   67   19   30  117    3 5360   16]\n",
      " [  16  262  130   30  138   10    9   26   66 5122]]\n",
      "\n",
      " Confusion matrix SVM (normalized)   \n",
      " \n",
      " [[0.92 0.   0.   0.01 0.02 0.01 0.   0.01 0.02 0.01]\n",
      " [0.   0.89 0.01 0.01 0.02 0.   0.03 0.   0.02 0.02]\n",
      " [0.   0.02 0.81 0.02 0.02 0.   0.08 0.   0.04 0.01]\n",
      " [0.   0.01 0.02 0.93 0.01 0.01 0.   0.   0.01 0.  ]\n",
      " [0.02 0.02 0.02 0.01 0.88 0.   0.01 0.01 0.02 0.01]\n",
      " [0.01 0.02 0.02 0.03 0.01 0.88 0.01 0.   0.03 0.  ]\n",
      " [0.   0.03 0.05 0.01 0.04 0.   0.85 0.01 0.01 0.  ]\n",
      " [0.01 0.   0.01 0.01 0.03 0.   0.01 0.9  0.01 0.01]\n",
      " [0.   0.02 0.01 0.01 0.   0.01 0.02 0.   0.92 0.  ]\n",
      " [0.   0.05 0.02 0.01 0.02 0.   0.   0.   0.01 0.88]]\n",
      "\n",
      " Confusion matrix LR  \n",
      " \n",
      " [[4954   35   27   63  160  156   10  159   90  154]\n",
      " [  24 4383  303   98  170   65  306   17  156  247]\n",
      " [   4  280 3584  127  186   99  764   91  406  249]\n",
      " [   8   94  130 4643  122  304   79   82  277   48]\n",
      " [ 202  271  300  149 4118   74  194  101  100  281]\n",
      " [  80  196  222  313   90 4498  112   71  181   57]\n",
      " [  30  263  475   56  216   64 4261  120  272   58]\n",
      " [ 121   42  181  165  219  117  156 4527  150  133]\n",
      " [  43  333  269  118   86  118  234   11 4466  123]\n",
      " [  94  605  443   62  262   61   66   85  100 4031]]\n",
      "\n",
      " Confusion matrix LR (normalized)   \n",
      " \n",
      " [[0.85 0.01 0.   0.01 0.03 0.03 0.   0.03 0.02 0.03]\n",
      " [0.   0.76 0.05 0.02 0.03 0.01 0.05 0.   0.03 0.04]\n",
      " [0.   0.05 0.62 0.02 0.03 0.02 0.13 0.02 0.07 0.04]\n",
      " [0.   0.02 0.02 0.8  0.02 0.05 0.01 0.01 0.05 0.01]\n",
      " [0.03 0.05 0.05 0.03 0.71 0.01 0.03 0.02 0.02 0.05]\n",
      " [0.01 0.03 0.04 0.05 0.02 0.77 0.02 0.01 0.03 0.01]\n",
      " [0.01 0.05 0.08 0.01 0.04 0.01 0.73 0.02 0.05 0.01]\n",
      " [0.02 0.01 0.03 0.03 0.04 0.02 0.03 0.78 0.03 0.02]\n",
      " [0.01 0.06 0.05 0.02 0.01 0.02 0.04 0.   0.77 0.02]\n",
      " [0.02 0.1  0.08 0.01 0.05 0.01 0.01 0.01 0.02 0.69]]\n"
     ]
    }
   ],
   "source": [
    "from sklearn.metrics import confusion_matrix\n",
    "\n",
    "np.set_printoptions(precision=2, suppress=True) # for better aligned printing of confusion matrix use floatmode='fixed'\n",
    "\n",
    "u, counts = np.unique(y_test, return_counts=True)\n",
    "print(\"Labels and frequencies in test set: \", counts)\n",
    "\n",
    "confusion_SVM = confusion_matrix(y_test, SVM_prediction)\n",
    "print(\"\\n Confusion matrix SVM  \\n \\n\", confusion_SVM)\n",
    "print(\"\\n Confusion matrix SVM (normalized)   \\n \\n\", confusion_SVM /counts[:,None] )\n",
    "\n",
    "confusion_LR = confusion_matrix(y_test, LR_prediction)\n",
    "print(\"\\n Confusion matrix LR  \\n \\n\", confusion_LR)\n",
    "print(\"\\n Confusion matrix LR (normalized)   \\n \\n\", confusion_LR /counts[:,None] )"
   ]
  },
  {
   "cell_type": "code",
   "execution_count": 48,
   "metadata": {},
   "outputs": [
    {
     "data": {
      "image/png": "[encoded data removed]",
      "text/plain": [
       "<Figure size 720x720 with 2 Axes>"
      ]
     },
     "metadata": {
      "needs_background": "light"
     },
     "output_type": "display_data"
    },
    {
     "data": {
      "image/png": "[encoded data removed]",
      "text/plain": [
       "<Figure size 720x720 with 2 Axes>"
      ]
     },
     "metadata": {
      "needs_background": "light"
     },
     "output_type": "display_data"
    }
   ],
   "source": [
    "# ADD CODE TO NORMALIZE CONFUSION MATRIX AND PRINT THE NORMALIZED MATRIX\n",
    "\n",
    "from sklearn.metrics import ConfusionMatrixDisplay\n",
    "\n",
    "estimator = [clf, logreg]\n",
    "title = [\"Confusion matrix for SVM\", \"Confusion matrix for LR\"]\n",
    "\n",
    "for est in range(0,2):\n",
    "    fig, ax = plt.subplots(figsize=(10, 10))\n",
    "    disp = ConfusionMatrixDisplay.from_estimator(\n",
    "        estimator[est],\n",
    "        X_test,\n",
    "        y_test,\n",
    "        display_labels = labels,\n",
    "        cmap = plt.cm.Blues,\n",
    "        normalize = \"true\",\n",
    "        ax = ax,\n",
    "    )\n",
    "    disp.ax_.set_title(title[est])\n",
    "\n",
    "plt.show()"
   ]
  },
  {
   "cell_type": "markdown",
   "metadata": {},
   "source": [
    "## QUESTION 4\n",
    "Have a look at the confusion matrices and comment on the obtained accuracies. Why some classes have lower accuracies and others an higher one ? Make some guesses on the possible causes.\n",
    "\n",
    "Looking at both tables we see that the largest values are, by far, the ones on the diagonal. This allows us to say that both SVM and LR work when applied to this classification task. We also notice, like we observed before, that the SVM has significantly better results than LR.\n",
    "Talking about the cells not on the diagonal (the classification mistakes) we observe that the largest values (and so the most common classification mistakes) are in the same position for both the confusion matrixes. Three of the biggest error for SVM are in position (6,2), (2,6) and (1,9), but in. this positions also LR has 3 of the biggest errors. This brings me to belive that the most common cause for the errors are character which looks similar to each other, resulting in similar handwriting and therefore in an harded classification task. In fact we see that the character with label 2 -> す \"su\", looks similar to the one with label 6 -> ま \"ma\", and this is one of the most common classification mistakes of both SVM and LR."
   ]
  }
 ],
 "metadata": {
  "kernelspec": {
   "display_name": "Python 3",
   "language": "python",
   "name": "python3"
  },
  "language_info": {
   "codemirror_mode": {
    "name": "ipython",
    "version": 3
   },
   "file_extension": ".py",
   "mimetype": "text/x-python",
   "name": "python",
   "nbconvert_exporter": "python",
   "pygments_lexer": "ipython3",
   "version": "3.8.8"
  }
 },
 "nbformat": 4,
 "nbformat_minor": 4
}
